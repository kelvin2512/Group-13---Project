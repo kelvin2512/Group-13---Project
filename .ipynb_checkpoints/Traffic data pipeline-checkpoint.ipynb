{
 "cells": [
  {
   "cell_type": "code",
   "execution_count": 3,
   "id": "819df280",
   "metadata": {},
   "outputs": [
    {
     "ename": "ModuleNotFoundError",
     "evalue": "No module named 'pandas'",
     "output_type": "error",
     "traceback": [
      "\u001b[1;31m---------------------------------------------------------------------------\u001b[0m",
      "\u001b[1;31mModuleNotFoundError\u001b[0m                       Traceback (most recent call last)",
      "Input \u001b[1;32mIn [3]\u001b[0m, in \u001b[0;36m<cell line: 1>\u001b[1;34m()\u001b[0m\n\u001b[1;32m----> 1\u001b[0m \u001b[38;5;28;01mimport\u001b[39;00m \u001b[38;5;21;01mpandas\u001b[39;00m \u001b[38;5;28;01mas\u001b[39;00m \u001b[38;5;21;01mpd\u001b[39;00m\n\u001b[0;32m      2\u001b[0m \u001b[38;5;28;01mimport\u001b[39;00m \u001b[38;5;21;01mnumpy\u001b[39;00m \u001b[38;5;28;01mas\u001b[39;00m \u001b[38;5;21;01mnp\u001b[39;00m\n\u001b[0;32m      3\u001b[0m \u001b[38;5;28;01mimport\u001b[39;00m \u001b[38;5;21;01mmath\u001b[39;00m\n",
      "\u001b[1;31mModuleNotFoundError\u001b[0m: No module named 'pandas'"
     ]
    }
   ],
   "source": [
    "import pandas as pd\n",
    "import numpy as np\n",
    "import math\n",
    "import scipy\n",
    "from scipy.stats.stats import pearsonr\n",
    "\n",
    "import matplotlib.pyplot as plt\n",
    "import seaborn as sns\n",
    "import plotly.express as px\n",
    "import plotly.graph_objects as go\n",
    "from plotly.subplots import make_subplots\n",
    "\n",
    "import plotly.io as pio\n",
    "\n",
    "import datetime\n",
    "import matplotlib.dates as mdates\n",
    "\n"
   ]
  },
  {
   "cell_type": "code",
   "execution_count": 4,
   "id": "a622f565",
   "metadata": {},
   "outputs": [
    {
     "ename": "NameError",
     "evalue": "name 'pd' is not defined",
     "output_type": "error",
     "traceback": [
      "\u001b[1;31m---------------------------------------------------------------------------\u001b[0m",
      "\u001b[1;31mNameError\u001b[0m                                 Traceback (most recent call last)",
      "Input \u001b[1;32mIn [4]\u001b[0m, in \u001b[0;36m<cell line: 5>\u001b[1;34m()\u001b[0m\n\u001b[0;32m      2\u001b[0m file_path \u001b[38;5;241m=\u001b[39m \u001b[38;5;124m'\u001b[39m\u001b[38;5;124mdata/road safety germany.csv\u001b[39m\u001b[38;5;124m'\u001b[39m\n\u001b[0;32m      4\u001b[0m \u001b[38;5;66;03m# Open File\u001b[39;00m\n\u001b[1;32m----> 5\u001b[0m df_road_safety_germany \u001b[38;5;241m=\u001b[39m \u001b[43mpd\u001b[49m\u001b[38;5;241m.\u001b[39mread_csv(file_path,  delimiter\u001b[38;5;241m=\u001b[39m\u001b[38;5;124m'\u001b[39m\u001b[38;5;124m;\u001b[39m\u001b[38;5;124m'\u001b[39m)\n\u001b[0;32m      7\u001b[0m \u001b[38;5;66;03m# Adjust Data\u001b[39;00m\n\u001b[0;32m      8\u001b[0m \n\u001b[0;32m      9\u001b[0m \u001b[38;5;66;03m# Step 1: This file has the columns Year (YYYY) & Month (mmm)(de), for convience we will add a date column as the table index. \u001b[39;00m\n\u001b[0;32m     10\u001b[0m \u001b[38;5;66;03m#         This column will contain the date of the first day of the corresponding month.\u001b[39;00m\n\u001b[0;32m     11\u001b[0m \u001b[38;5;66;03m# - Step 1.1: Convert the month values (mmm)(de) (e.i. Januar, Februar, März, ..) to month (mm) values (i.e. 01, 02, 03, ..)\u001b[39;00m\n\u001b[0;32m     12\u001b[0m df_road_safety_germany \u001b[38;5;241m=\u001b[39m df_road_safety_germany\u001b[38;5;241m.\u001b[39mreplace([\u001b[38;5;124m'\u001b[39m\u001b[38;5;124mJanuar\u001b[39m\u001b[38;5;124m'\u001b[39m, \u001b[38;5;124m'\u001b[39m\u001b[38;5;124mFebruar\u001b[39m\u001b[38;5;124m'\u001b[39m, \u001b[38;5;124m'\u001b[39m\u001b[38;5;124mMärz\u001b[39m\u001b[38;5;124m'\u001b[39m, \u001b[38;5;124m'\u001b[39m\u001b[38;5;124mApril\u001b[39m\u001b[38;5;124m'\u001b[39m, \u001b[38;5;124m'\u001b[39m\u001b[38;5;124mMai\u001b[39m\u001b[38;5;124m'\u001b[39m, \u001b[38;5;124m'\u001b[39m\u001b[38;5;124mJuni\u001b[39m\u001b[38;5;124m'\u001b[39m, \u001b[38;5;124m'\u001b[39m\u001b[38;5;124mJuli\u001b[39m\u001b[38;5;124m'\u001b[39m, \n\u001b[0;32m     13\u001b[0m                                                          \u001b[38;5;124m'\u001b[39m\u001b[38;5;124mAugust\u001b[39m\u001b[38;5;124m'\u001b[39m, \u001b[38;5;124m'\u001b[39m\u001b[38;5;124mSeptember\u001b[39m\u001b[38;5;124m'\u001b[39m, \u001b[38;5;124m'\u001b[39m\u001b[38;5;124mOktober\u001b[39m\u001b[38;5;124m'\u001b[39m, \u001b[38;5;124m'\u001b[39m\u001b[38;5;124mNovember\u001b[39m\u001b[38;5;124m'\u001b[39m, \u001b[38;5;124m'\u001b[39m\u001b[38;5;124mDezember\u001b[39m\u001b[38;5;124m'\u001b[39m], \n\u001b[0;32m     14\u001b[0m                                                         [\u001b[38;5;124m'\u001b[39m\u001b[38;5;124m01\u001b[39m\u001b[38;5;124m'\u001b[39m,\u001b[38;5;124m'\u001b[39m\u001b[38;5;124m02\u001b[39m\u001b[38;5;124m'\u001b[39m,\u001b[38;5;124m'\u001b[39m\u001b[38;5;124m03\u001b[39m\u001b[38;5;124m'\u001b[39m,\u001b[38;5;124m'\u001b[39m\u001b[38;5;124m04\u001b[39m\u001b[38;5;124m'\u001b[39m,\u001b[38;5;124m'\u001b[39m\u001b[38;5;124m05\u001b[39m\u001b[38;5;124m'\u001b[39m,\u001b[38;5;124m'\u001b[39m\u001b[38;5;124m06\u001b[39m\u001b[38;5;124m'\u001b[39m,\u001b[38;5;124m'\u001b[39m\u001b[38;5;124m07\u001b[39m\u001b[38;5;124m'\u001b[39m,\u001b[38;5;124m'\u001b[39m\u001b[38;5;124m08\u001b[39m\u001b[38;5;124m'\u001b[39m,\u001b[38;5;124m'\u001b[39m\u001b[38;5;124m09\u001b[39m\u001b[38;5;124m'\u001b[39m,\u001b[38;5;124m'\u001b[39m\u001b[38;5;124m10\u001b[39m\u001b[38;5;124m'\u001b[39m,\u001b[38;5;124m'\u001b[39m\u001b[38;5;124m11\u001b[39m\u001b[38;5;124m'\u001b[39m,\u001b[38;5;124m'\u001b[39m\u001b[38;5;124m12\u001b[39m\u001b[38;5;124m'\u001b[39m])\n",
      "\u001b[1;31mNameError\u001b[0m: name 'pd' is not defined"
     ]
    }
   ],
   "source": [
    "# File path\n",
    "file_path = 'data/road safety germany.csv'\n",
    "\n",
    "# Open File\n",
    "df_road_safety_germany = pd.read_csv(file_path,  delimiter=';')\n",
    "\n",
    "# Adjust Data\n",
    "\n",
    "# Step 1: This file has the columns Year (YYYY) & Month (mmm)(de), for convience we will add a date column as the table index. \n",
    "#         This column will contain the date of the first day of the corresponding month.\n",
    "# - Step 1.1: Convert the month values (mmm)(de) (e.i. Januar, Februar, März, ..) to month (mm) values (i.e. 01, 02, 03, ..)\n",
    "df_road_safety_germany = df_road_safety_germany.replace(['Januar', 'Februar', 'März', 'April', 'Mai', 'Juni', 'Juli', \n",
    "                                                         'August', 'September', 'Oktober', 'November', 'Dezember'], \n",
    "                                                        ['01','02','03','04','05','06','07','08','09','10','11','12'])\n",
    "\n",
    "# - Step 1.2: Add [Date] column to dataframe\n",
    "df_road_safety_germany['Date'] = '01-' + df_road_safety_germany['Month'] + '-' + df_road_safety_germany['Year'].astype(str)\n",
    "# - Convert string to date value\n",
    "df_road_safety_germany['Date'] = pd.to_datetime(df_road_safety_germany['Date'], format = '%d-%m-%Y')\n",
    "# - Set date column as index \n",
    "df_road_safety_germany.set_index('Date', inplace=True)\n",
    "\n",
    "# Step 2: Clean Data, this dataframe contains '...' values for future dates since there is no data available yet.\n",
    "#         These values will be replaced by empty values \n",
    "df_road_safety_germany = df_road_safety_germany.replace({'...': None})\n",
    "\n",
    "\n",
    "\n",
    "# Step 3: Select only the necesarry columns from the dataframe - We're only interested in the data relating to human injury\n",
    "df_road_safety_germany = df_road_safety_germany[['Unfälle mit Personenschaden - Insgesamt', \n",
    "                                                'Schwerwiegende Unfälle mit Sachschaden i.e.S - Insgesamt',\n",
    "                                                'Sonst. Unfälle unter dem Einfluss berausch. Mittel - Insgesamt',\n",
    "                                                'Übrige Sachschadensunfälle - Insgesamt', \n",
    "                                                'Insgesamt - Insgesamt']]\n",
    "\n",
    "# Step 4: Rename column names from German to English\n",
    "df_road_safety_germany = df_road_safety_germany.rename(columns={\n",
    "    'Unfälle mit Personenschaden - Insgesamt': 'Accidents involving human injury', \n",
    "    'Schwerwiegende Unfälle mit Sachschaden i.e.S - Insgesamt': 'Serious accidents with material damange',\n",
    "    'Sonst. Unfälle unter dem Einfluss berausch. Mittel - Insgesamt': 'Accidents under the influence of toxins', \n",
    "    'Übrige Sachschadensunfälle - Insgesamt': 'Other accidents',\n",
    "    'Insgesamt - Insgesamt': 'Total accidents'})\n",
    "\n",
    "# Step 5: Convert to int\n",
    "#         First drop future dates without values\n",
    "df_road_safety_germany = df_road_safety_germany.dropna()\n",
    "df_road_safety_germany = df_road_safety_germany.astype({'Accidents involving human injury': 'int64'})\n",
    "\n",
    "# Read File\n",
    "df_road_safety_germany"
   ]
  },
  {
   "cell_type": "code",
   "execution_count": null,
   "id": "2c37833f",
   "metadata": {},
   "outputs": [],
   "source": []
  }
 ],
 "metadata": {
  "kernelspec": {
   "display_name": "Python 3 (ipykernel)",
   "language": "python",
   "name": "python3"
  },
  "language_info": {
   "codemirror_mode": {
    "name": "ipython",
    "version": 3
   },
   "file_extension": ".py",
   "mimetype": "text/x-python",
   "name": "python",
   "nbconvert_exporter": "python",
   "pygments_lexer": "ipython3",
   "version": "3.9.13"
  }
 },
 "nbformat": 4,
 "nbformat_minor": 5
}
