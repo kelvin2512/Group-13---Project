{
 "cells": [
  {
   "cell_type": "markdown",
   "metadata": {},
   "source": [
    "# Project Group - \n",
    "\n",
    "Members: Arbman, Kelvin; Houterman, Simon; Koetsier, Lars; Linders, Joris \n",
    "\n",
    "Student numbers: "
   ]
  },
  {
   "cell_type": "markdown",
   "metadata": {},
   "source": [
    "# Research Objective\n",
    "\n",
    "*Requires data modeling and quantitative research in Transport, Infrastructure & Logistics*"
   ]
  },
  {
   "cell_type": "markdown",
   "metadata": {},
   "source": [
    "Research Question\n",
    "* Application project\n",
    "* Road safety-data\n",
    "* COVID-data\n",
    "* Location: Germany\n",
    "* Timespan: five years before pandemic - 2021 (mid-pandemic)\n",
    "\n",
    "How was the road safety in Germany affected during the COVID pandemic compared to the previous five years?\n"
   ]
  },
  {
   "cell_type": "markdown",
   "metadata": {},
   "source": [
    "# Contribution Statement\n",
    "\n",
    "*Be specific. Some of the tasks can be coding (expect everyone to do this), background research, conceptualisation, visualisation, data analysis, data modelling*"
   ]
  },
  {
   "cell_type": "markdown",
   "metadata": {},
   "source": [
    "**Author 1**:\n",
    "\n",
    "**Author 2**:\n",
    "\n",
    "**Author 3**:"
   ]
  },
  {
   "cell_type": "markdown",
   "metadata": {},
   "source": [
    "# Data Used"
   ]
  },
  {
   "cell_type": "markdown",
   "metadata": {},
   "source": [
    "* Road Safety\n",
    "* Covid Positive Tests\n",
    "* Covid Deaths\n",
    "* Covid Intensive Care Cases\n",
    "* Traffic Intensity?\n"
   ]
  },
  {
   "cell_type": "markdown",
   "metadata": {},
   "source": [
    "# Libaries Used"
   ]
  },
  {
   "cell_type": "code",
   "execution_count": 1,
   "metadata": {},
   "outputs": [],
   "source": [
    "import pandas as pd\n"
   ]
  },
  {
   "cell_type": "markdown",
   "metadata": {},
   "source": [
    "# Data Pipeline"
   ]
  },
  {
   "cell_type": "code",
   "execution_count": 2,
   "metadata": {},
   "outputs": [
    {
     "data": {
      "text/html": [
       "<div>\n",
       "<style scoped>\n",
       "    .dataframe tbody tr th:only-of-type {\n",
       "        vertical-align: middle;\n",
       "    }\n",
       "\n",
       "    .dataframe tbody tr th {\n",
       "        vertical-align: top;\n",
       "    }\n",
       "\n",
       "    .dataframe thead th {\n",
       "        text-align: right;\n",
       "    }\n",
       "</style>\n",
       "<table border=\"1\" class=\"dataframe\">\n",
       "  <thead>\n",
       "    <tr style=\"text-align: right;\">\n",
       "      <th></th>\n",
       "      <th>Accidents involving human injury</th>\n",
       "      <th>Serious accidents with material damange</th>\n",
       "      <th>Accidents under the influence of toxins</th>\n",
       "      <th>Other accidents</th>\n",
       "      <th>Total accidents</th>\n",
       "    </tr>\n",
       "    <tr>\n",
       "      <th>Date</th>\n",
       "      <th></th>\n",
       "      <th></th>\n",
       "      <th></th>\n",
       "      <th></th>\n",
       "      <th></th>\n",
       "    </tr>\n",
       "  </thead>\n",
       "  <tbody>\n",
       "    <tr>\n",
       "      <th>2011-01-01</th>\n",
       "      <td>16448</td>\n",
       "      <td>7045</td>\n",
       "      <td>1142</td>\n",
       "      <td>151332</td>\n",
       "      <td>175967</td>\n",
       "    </tr>\n",
       "    <tr>\n",
       "      <th>2011-02-01</th>\n",
       "      <td>16227</td>\n",
       "      <td>6138</td>\n",
       "      <td>1043</td>\n",
       "      <td>137738</td>\n",
       "      <td>161146</td>\n",
       "    </tr>\n",
       "    <tr>\n",
       "      <th>2011-03-01</th>\n",
       "      <td>21569</td>\n",
       "      <td>5919</td>\n",
       "      <td>1114</td>\n",
       "      <td>154508</td>\n",
       "      <td>183110</td>\n",
       "    </tr>\n",
       "    <tr>\n",
       "      <th>2011-04-01</th>\n",
       "      <td>26411</td>\n",
       "      <td>5717</td>\n",
       "      <td>1245</td>\n",
       "      <td>156631</td>\n",
       "      <td>190004</td>\n",
       "    </tr>\n",
       "    <tr>\n",
       "      <th>2011-05-01</th>\n",
       "      <td>30831</td>\n",
       "      <td>6099</td>\n",
       "      <td>1291</td>\n",
       "      <td>170684</td>\n",
       "      <td>208905</td>\n",
       "    </tr>\n",
       "    <tr>\n",
       "      <th>...</th>\n",
       "      <td>...</td>\n",
       "      <td>...</td>\n",
       "      <td>...</td>\n",
       "      <td>...</td>\n",
       "      <td>...</td>\n",
       "    </tr>\n",
       "    <tr>\n",
       "      <th>2022-08-01</th>\n",
       "      <td>None</td>\n",
       "      <td>None</td>\n",
       "      <td>None</td>\n",
       "      <td>None</td>\n",
       "      <td>None</td>\n",
       "    </tr>\n",
       "    <tr>\n",
       "      <th>2022-09-01</th>\n",
       "      <td>None</td>\n",
       "      <td>None</td>\n",
       "      <td>None</td>\n",
       "      <td>None</td>\n",
       "      <td>None</td>\n",
       "    </tr>\n",
       "    <tr>\n",
       "      <th>2022-10-01</th>\n",
       "      <td>None</td>\n",
       "      <td>None</td>\n",
       "      <td>None</td>\n",
       "      <td>None</td>\n",
       "      <td>None</td>\n",
       "    </tr>\n",
       "    <tr>\n",
       "      <th>2022-11-01</th>\n",
       "      <td>None</td>\n",
       "      <td>None</td>\n",
       "      <td>None</td>\n",
       "      <td>None</td>\n",
       "      <td>None</td>\n",
       "    </tr>\n",
       "    <tr>\n",
       "      <th>2022-12-01</th>\n",
       "      <td>None</td>\n",
       "      <td>None</td>\n",
       "      <td>None</td>\n",
       "      <td>None</td>\n",
       "      <td>None</td>\n",
       "    </tr>\n",
       "  </tbody>\n",
       "</table>\n",
       "<p>144 rows × 5 columns</p>\n",
       "</div>"
      ],
      "text/plain": [
       "           Accidents involving human injury  \\\n",
       "Date                                          \n",
       "2011-01-01                            16448   \n",
       "2011-02-01                            16227   \n",
       "2011-03-01                            21569   \n",
       "2011-04-01                            26411   \n",
       "2011-05-01                            30831   \n",
       "...                                     ...   \n",
       "2022-08-01                             None   \n",
       "2022-09-01                             None   \n",
       "2022-10-01                             None   \n",
       "2022-11-01                             None   \n",
       "2022-12-01                             None   \n",
       "\n",
       "           Serious accidents with material damange  \\\n",
       "Date                                                 \n",
       "2011-01-01                                    7045   \n",
       "2011-02-01                                    6138   \n",
       "2011-03-01                                    5919   \n",
       "2011-04-01                                    5717   \n",
       "2011-05-01                                    6099   \n",
       "...                                            ...   \n",
       "2022-08-01                                    None   \n",
       "2022-09-01                                    None   \n",
       "2022-10-01                                    None   \n",
       "2022-11-01                                    None   \n",
       "2022-12-01                                    None   \n",
       "\n",
       "           Accidents under the influence of toxins Other accidents  \\\n",
       "Date                                                                 \n",
       "2011-01-01                                    1142          151332   \n",
       "2011-02-01                                    1043          137738   \n",
       "2011-03-01                                    1114          154508   \n",
       "2011-04-01                                    1245          156631   \n",
       "2011-05-01                                    1291          170684   \n",
       "...                                            ...             ...   \n",
       "2022-08-01                                    None            None   \n",
       "2022-09-01                                    None            None   \n",
       "2022-10-01                                    None            None   \n",
       "2022-11-01                                    None            None   \n",
       "2022-12-01                                    None            None   \n",
       "\n",
       "           Total accidents  \n",
       "Date                        \n",
       "2011-01-01          175967  \n",
       "2011-02-01          161146  \n",
       "2011-03-01          183110  \n",
       "2011-04-01          190004  \n",
       "2011-05-01          208905  \n",
       "...                    ...  \n",
       "2022-08-01            None  \n",
       "2022-09-01            None  \n",
       "2022-10-01            None  \n",
       "2022-11-01            None  \n",
       "2022-12-01            None  \n",
       "\n",
       "[144 rows x 5 columns]"
      ]
     },
     "execution_count": 2,
     "metadata": {},
     "output_type": "execute_result"
    }
   ],
   "source": [
    "# Pipeline road Safety Data\n",
    "\n",
    "# File path\n",
    "file_path = 'data/road safety germany.csv'\n",
    "\n",
    "# Open File\n",
    "df_road_safety_germany = pd.read_csv(file_path,  delimiter=';')\n",
    "\n",
    "# Adjust Data\n",
    "\n",
    "# Step 1: This file has the columns Year (YYYY) & Month (mmm)(de), for convience we will add a date column as the table index. \n",
    "#         This column will contain the date of the first day of the corresponding month.\n",
    "# - Step 1.1: Convert the month values (mmm)(de) (e.i. Januar, Februar, März, ..) to month (mm) values (i.e. 01, 02, 03, ..)\n",
    "df_road_safety_germany = df_road_safety_germany.replace(['Januar', 'Februar', 'März', 'April', 'Mai', 'Juni', 'Juli', \n",
    "                                                         'August', 'September', 'Oktober', 'November', 'Dezember'], \n",
    "                                                        ['01','02','03','04','05','06','07','08','09','10','11','12'])\n",
    "\n",
    "# - Step 1.2: Add [Date] column to dataframe\n",
    "# - df_road_safety_germany['Year'] = str(df_road_safety_germany['Year'])\n",
    "df_road_safety_germany['Date'] = '01-' + df_road_safety_germany['Month'] + '-' + df_road_safety_germany['Year'].astype(str)\n",
    "# - Convert string to date value\n",
    "df_road_safety_germany['Date'] = pd.to_datetime(df_road_safety_germany['Date'], format = '%d-%m-%Y')\n",
    "# - Set date column as index \n",
    "df_road_safety_germany.set_index('Date', inplace=True)\n",
    "\n",
    "# Step 2: Clean Data, this dataframe contains '...' values for future dates since there is no data available yet.\n",
    "#         These values will be replaced by None values \n",
    "df_road_safety_germany = df_road_safety_germany.replace({'...': None})\n",
    "\n",
    "\n",
    "# Step 3: Select only the necesarry columns from the dataframe \n",
    "df_road_safety_germany = df_road_safety_germany[['Unfälle mit Personenschaden - Insgesamt', \n",
    "                                                'Schwerwiegende Unfälle mit Sachschaden i.e.S - Insgesamt',\n",
    "                                                'Sonst. Unfälle unter dem Einfluss berausch. Mittel - Insgesamt',\n",
    "                                                'Übrige Sachschadensunfälle - Insgesamt', \n",
    "                                                'Insgesamt - Insgesamt']]\n",
    "\n",
    "# Step 4: Rename column names from German to English\n",
    "df_road_safety_germany = df_road_safety_germany.rename(columns={\n",
    "    'Unfälle mit Personenschaden - Insgesamt': 'Accidents involving human injury', \n",
    "    'Schwerwiegende Unfälle mit Sachschaden i.e.S - Insgesamt': 'Serious accidents with material damange',\n",
    "    'Sonst. Unfälle unter dem Einfluss berausch. Mittel - Insgesamt': 'Accidents under the influence of toxins', \n",
    "    'Übrige Sachschadensunfälle - Insgesamt': 'Other accidents',\n",
    "    'Insgesamt - Insgesamt': 'Total accidents'})\n",
    "\n",
    "\n",
    "# Read File\n",
    "df_road_safety_germany\n"
   ]
  },
  {
   "cell_type": "code",
   "execution_count": 3,
   "metadata": {},
   "outputs": [],
   "source": [
    "# Pipeline Covid Positive Test\n",
    "\n",
    "# File path\n",
    "\n",
    "# Open File\n",
    "\n",
    "# Adjust Data\n",
    "\n",
    "# Read File\n"
   ]
  },
  {
   "cell_type": "code",
   "execution_count": 4,
   "metadata": {},
   "outputs": [],
   "source": [
    "# Pipeline Covid Deaths\n",
    "\n",
    "# File path\n",
    "\n",
    "# Open File\n",
    "\n",
    "# Adjust Data\n",
    "\n",
    "# Read File\n"
   ]
  },
  {
   "cell_type": "code",
   "execution_count": 5,
   "metadata": {},
   "outputs": [],
   "source": [
    "# Pipeline Covid Intensive Care Cases\n",
    "\n",
    "# File path\n",
    "\n",
    "# Open File\n",
    "\n",
    "# Adjust Data\n",
    "\n",
    "# Read File\n"
   ]
  },
  {
   "cell_type": "markdown",
   "metadata": {},
   "source": [
    "# Chapter 1: Analyse Road Safety Data\n",
    "* Highlight seasonal trends\n"
   ]
  },
  {
   "cell_type": "code",
   "execution_count": null,
   "metadata": {},
   "outputs": [],
   "source": []
  },
  {
   "cell_type": "markdown",
   "metadata": {},
   "source": [
    "## Chapter 2: Analyse Covid Data\n",
    "* Highlight Covid Trends\n",
    "* Highlight big change in positive tests\n",
    "* Hightlight relationship between tests, deaths and IC cases\n",
    "\n",
    "* Introduce timeline of memorable covid desicions in Germany\n",
    "    * Possibly simulate the timeline automatically\n"
   ]
  },
  {
   "cell_type": "code",
   "execution_count": null,
   "metadata": {},
   "outputs": [],
   "source": []
  },
  {
   "cell_type": "markdown",
   "metadata": {},
   "source": [
    "## Chapter 3: Analyse Relationship between Road Safety Data & Covid Data\n",
    "* \n"
   ]
  },
  {
   "cell_type": "code",
   "execution_count": null,
   "metadata": {},
   "outputs": [],
   "source": []
  }
 ],
 "metadata": {
  "kernelspec": {
   "display_name": "Python 3 (ipykernel)",
   "language": "python",
   "name": "python3"
  },
  "language_info": {
   "codemirror_mode": {
    "name": "ipython",
    "version": 3
   },
   "file_extension": ".py",
   "mimetype": "text/x-python",
   "name": "python",
   "nbconvert_exporter": "python",
   "pygments_lexer": "ipython3",
   "version": "3.10.4"
  },
  "vscode": {
   "interpreter": {
    "hash": "31f2aee4e71d21fbe5cf8b01ff0e069b9275f58929596ceb00d14d90e3e16cd6"
   }
  }
 },
 "nbformat": 4,
 "nbformat_minor": 2
}
